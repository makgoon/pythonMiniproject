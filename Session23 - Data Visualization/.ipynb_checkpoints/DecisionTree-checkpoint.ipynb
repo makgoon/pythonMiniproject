{
 "cells": [
  {
   "cell_type": "markdown",
   "metadata": {},
   "source": [
    "# 머신러닝 (DecisionTree Regression)"
   ]
  },
  {
   "cell_type": "code",
   "execution_count": 4,
   "metadata": {
    "collapsed": true
   },
   "outputs": [],
   "source": [
    "import numpy as np\n",
    "import pandas as pd \n",
    "from sqlalchemy import create_engine ,cast\n",
    "# from sklearn import datasets\n",
    "from sklearn.model_selection import train_test_split\n",
    "from sklearn.metrics import accuracy_score\n",
    "from sklearn.preprocessing import StandardScaler\n",
    "\n",
    "import matplotlib.pyplot as plt\n",
    "\n",
    "from graphviz import Source\n",
    "from sklearn import tree\n",
    "from sklearn.tree import export_graphviz\n",
    "from sklearn.metrics import mean_squared_error\n",
    "from sklearn.metrics import mean_absolute_error\n",
    "#Source( tree.export_graphviz(dtreg, out_file=None, feature_names=X.columns))\n",
    "# from sklearn import tree\n",
    "# pip install graphviz\n",
    "import graphviz"
   ]
  },
  {
   "cell_type": "markdown",
   "metadata": {},
   "source": [
    "### 1. 분석데이터 로딩"
   ]
  },
  {
   "cell_type": "code",
   "execution_count": 5,
   "metadata": {
    "scrolled": true
   },
   "outputs": [
    {
     "data": {
      "text/html": [
       "<div>\n",
       "<style scoped>\n",
       "    .dataframe tbody tr th:only-of-type {\n",
       "        vertical-align: middle;\n",
       "    }\n",
       "\n",
       "    .dataframe tbody tr th {\n",
       "        vertical-align: top;\n",
       "    }\n",
       "\n",
       "    .dataframe thead th {\n",
       "        text-align: right;\n",
       "    }\n",
       "</style>\n",
       "<table border=\"1\" class=\"dataframe\">\n",
       "  <thead>\n",
       "    <tr style=\"text-align: right;\">\n",
       "      <th></th>\n",
       "      <th>REGIONID</th>\n",
       "      <th>PRODUCTGROUP</th>\n",
       "      <th>PRODUCT</th>\n",
       "      <th>ITEM</th>\n",
       "      <th>YEARWEEK</th>\n",
       "      <th>YEAR</th>\n",
       "      <th>WEEK</th>\n",
       "      <th>QTY</th>\n",
       "      <th>HOLIDAY</th>\n",
       "      <th>HCLUS</th>\n",
       "      <th>PROMOTION</th>\n",
       "      <th>PRO_PERCENT</th>\n",
       "    </tr>\n",
       "  </thead>\n",
       "  <tbody>\n",
       "    <tr>\n",
       "      <th>0</th>\n",
       "      <td>SEOUL_BANK_001</td>\n",
       "      <td>PG02</td>\n",
       "      <td>PRODUCT0010</td>\n",
       "      <td>ITEM0115</td>\n",
       "      <td>201501</td>\n",
       "      <td>2015</td>\n",
       "      <td>1</td>\n",
       "      <td>1225</td>\n",
       "      <td>Y</td>\n",
       "      <td>1</td>\n",
       "      <td>Y</td>\n",
       "      <td>0.209442</td>\n",
       "    </tr>\n",
       "    <tr>\n",
       "      <th>1</th>\n",
       "      <td>SEOUL_BANK_001</td>\n",
       "      <td>PG02</td>\n",
       "      <td>PRODUCT0010</td>\n",
       "      <td>ITEM0115</td>\n",
       "      <td>201502</td>\n",
       "      <td>2015</td>\n",
       "      <td>2</td>\n",
       "      <td>968</td>\n",
       "      <td>N</td>\n",
       "      <td>4</td>\n",
       "      <td>Y</td>\n",
       "      <td>0.209442</td>\n",
       "    </tr>\n",
       "    <tr>\n",
       "      <th>2</th>\n",
       "      <td>SEOUL_BANK_001</td>\n",
       "      <td>PG02</td>\n",
       "      <td>PRODUCT0010</td>\n",
       "      <td>ITEM0115</td>\n",
       "      <td>201503</td>\n",
       "      <td>2015</td>\n",
       "      <td>3</td>\n",
       "      <td>1209</td>\n",
       "      <td>N</td>\n",
       "      <td>4</td>\n",
       "      <td>Y</td>\n",
       "      <td>0.208155</td>\n",
       "    </tr>\n",
       "    <tr>\n",
       "      <th>3</th>\n",
       "      <td>SEOUL_BANK_001</td>\n",
       "      <td>PG02</td>\n",
       "      <td>PRODUCT0010</td>\n",
       "      <td>ITEM0115</td>\n",
       "      <td>201504</td>\n",
       "      <td>2015</td>\n",
       "      <td>4</td>\n",
       "      <td>1810</td>\n",
       "      <td>Y</td>\n",
       "      <td>2</td>\n",
       "      <td>Y</td>\n",
       "      <td>0.208155</td>\n",
       "    </tr>\n",
       "    <tr>\n",
       "      <th>4</th>\n",
       "      <td>SEOUL_BANK_001</td>\n",
       "      <td>PG02</td>\n",
       "      <td>PRODUCT0010</td>\n",
       "      <td>ITEM0115</td>\n",
       "      <td>201505</td>\n",
       "      <td>2015</td>\n",
       "      <td>5</td>\n",
       "      <td>1773</td>\n",
       "      <td>N</td>\n",
       "      <td>4</td>\n",
       "      <td>Y</td>\n",
       "      <td>0.208155</td>\n",
       "    </tr>\n",
       "  </tbody>\n",
       "</table>\n",
       "</div>"
      ],
      "text/plain": [
       "         REGIONID PRODUCTGROUP      PRODUCT      ITEM  YEARWEEK  YEAR  WEEK  \\\n",
       "0  SEOUL_BANK_001         PG02  PRODUCT0010  ITEM0115    201501  2015     1   \n",
       "1  SEOUL_BANK_001         PG02  PRODUCT0010  ITEM0115    201502  2015     2   \n",
       "2  SEOUL_BANK_001         PG02  PRODUCT0010  ITEM0115    201503  2015     3   \n",
       "3  SEOUL_BANK_001         PG02  PRODUCT0010  ITEM0115    201504  2015     4   \n",
       "4  SEOUL_BANK_001         PG02  PRODUCT0010  ITEM0115    201505  2015     5   \n",
       "\n",
       "    QTY HOLIDAY  HCLUS PROMOTION  PRO_PERCENT  \n",
       "0  1225       Y      1         Y     0.209442  \n",
       "1   968       N      4         Y     0.209442  \n",
       "2  1209       N      4         Y     0.208155  \n",
       "3  1810       Y      2         Y     0.208155  \n",
       "4  1773       N      4         Y     0.208155  "
      ]
     },
     "execution_count": 5,
     "metadata": {},
     "output_type": "execute_result"
    }
   ],
   "source": [
    "#CSV 파일을 읽어 DataFrame 변수에 저장하기\n",
    "featuresData = pd.read_csv(\"../dataset/feature_regression_example.csv\")\n",
    "featuresData.head()"
   ]
  },
  {
   "cell_type": "markdown",
   "metadata": {},
   "source": [
    "### 2.데이터 형 변환"
   ]
  },
  {
   "cell_type": "code",
   "execution_count": 6,
   "metadata": {
    "scrolled": true
   },
   "outputs": [
    {
     "data": {
      "text/plain": [
       "REGIONID         object\n",
       "PRODUCTGROUP     object\n",
       "PRODUCT          object\n",
       "ITEM             object\n",
       "YEARWEEK          int64\n",
       "YEAR              int64\n",
       "WEEK            float64\n",
       "QTY             float64\n",
       "HOLIDAY          object\n",
       "HCLUS             int64\n",
       "PROMOTION        object\n",
       "PRO_PERCENT     float64\n",
       "dtype: object"
      ]
     },
     "execution_count": 6,
     "metadata": {},
     "output_type": "execute_result"
    }
   ],
   "source": [
    "#형변환\n",
    "featuresData[['WEEK','QTY','PRO_PERCENT']]=featuresData[['WEEK','QTY','PRO_PERCENT']].astype('float64')\n",
    "featuresData.dtypes"
   ]
  },
  {
   "cell_type": "markdown",
   "metadata": {},
   "source": [
    "### 3. 문자데이터 코드변환(Vector연산)"
   ]
  },
  {
   "cell_type": "code",
   "execution_count": 7,
   "metadata": {
    "scrolled": true
   },
   "outputs": [
    {
     "data": {
      "text/html": [
       "<div>\n",
       "<style scoped>\n",
       "    .dataframe tbody tr th:only-of-type {\n",
       "        vertical-align: middle;\n",
       "    }\n",
       "\n",
       "    .dataframe tbody tr th {\n",
       "        vertical-align: top;\n",
       "    }\n",
       "\n",
       "    .dataframe thead th {\n",
       "        text-align: right;\n",
       "    }\n",
       "</style>\n",
       "<table border=\"1\" class=\"dataframe\">\n",
       "  <thead>\n",
       "    <tr style=\"text-align: right;\">\n",
       "      <th></th>\n",
       "      <th>REGIONID</th>\n",
       "      <th>PRODUCTGROUP</th>\n",
       "      <th>PRODUCT</th>\n",
       "      <th>ITEM</th>\n",
       "      <th>YEARWEEK</th>\n",
       "      <th>YEAR</th>\n",
       "      <th>WEEK</th>\n",
       "      <th>QTY</th>\n",
       "      <th>HOLIDAY</th>\n",
       "      <th>HCLUS</th>\n",
       "      <th>PROMOTION</th>\n",
       "      <th>PRO_PERCENT</th>\n",
       "      <th>PROMOTIONCODE</th>\n",
       "      <th>HOLIDAYCODE</th>\n",
       "    </tr>\n",
       "  </thead>\n",
       "  <tbody>\n",
       "    <tr>\n",
       "      <th>0</th>\n",
       "      <td>SEOUL_BANK_001</td>\n",
       "      <td>PG02</td>\n",
       "      <td>PRODUCT0010</td>\n",
       "      <td>ITEM0115</td>\n",
       "      <td>201501</td>\n",
       "      <td>2015</td>\n",
       "      <td>1.0</td>\n",
       "      <td>1225.0</td>\n",
       "      <td>Y</td>\n",
       "      <td>1</td>\n",
       "      <td>Y</td>\n",
       "      <td>0.209442</td>\n",
       "      <td>1</td>\n",
       "      <td>1</td>\n",
       "    </tr>\n",
       "    <tr>\n",
       "      <th>1</th>\n",
       "      <td>SEOUL_BANK_001</td>\n",
       "      <td>PG02</td>\n",
       "      <td>PRODUCT0010</td>\n",
       "      <td>ITEM0115</td>\n",
       "      <td>201502</td>\n",
       "      <td>2015</td>\n",
       "      <td>2.0</td>\n",
       "      <td>968.0</td>\n",
       "      <td>N</td>\n",
       "      <td>4</td>\n",
       "      <td>Y</td>\n",
       "      <td>0.209442</td>\n",
       "      <td>1</td>\n",
       "      <td>0</td>\n",
       "    </tr>\n",
       "    <tr>\n",
       "      <th>2</th>\n",
       "      <td>SEOUL_BANK_001</td>\n",
       "      <td>PG02</td>\n",
       "      <td>PRODUCT0010</td>\n",
       "      <td>ITEM0115</td>\n",
       "      <td>201503</td>\n",
       "      <td>2015</td>\n",
       "      <td>3.0</td>\n",
       "      <td>1209.0</td>\n",
       "      <td>N</td>\n",
       "      <td>4</td>\n",
       "      <td>Y</td>\n",
       "      <td>0.208155</td>\n",
       "      <td>1</td>\n",
       "      <td>0</td>\n",
       "    </tr>\n",
       "    <tr>\n",
       "      <th>3</th>\n",
       "      <td>SEOUL_BANK_001</td>\n",
       "      <td>PG02</td>\n",
       "      <td>PRODUCT0010</td>\n",
       "      <td>ITEM0115</td>\n",
       "      <td>201504</td>\n",
       "      <td>2015</td>\n",
       "      <td>4.0</td>\n",
       "      <td>1810.0</td>\n",
       "      <td>Y</td>\n",
       "      <td>2</td>\n",
       "      <td>Y</td>\n",
       "      <td>0.208155</td>\n",
       "      <td>1</td>\n",
       "      <td>1</td>\n",
       "    </tr>\n",
       "    <tr>\n",
       "      <th>4</th>\n",
       "      <td>SEOUL_BANK_001</td>\n",
       "      <td>PG02</td>\n",
       "      <td>PRODUCT0010</td>\n",
       "      <td>ITEM0115</td>\n",
       "      <td>201505</td>\n",
       "      <td>2015</td>\n",
       "      <td>5.0</td>\n",
       "      <td>1773.0</td>\n",
       "      <td>N</td>\n",
       "      <td>4</td>\n",
       "      <td>Y</td>\n",
       "      <td>0.208155</td>\n",
       "      <td>1</td>\n",
       "      <td>0</td>\n",
       "    </tr>\n",
       "  </tbody>\n",
       "</table>\n",
       "</div>"
      ],
      "text/plain": [
       "         REGIONID PRODUCTGROUP      PRODUCT      ITEM  YEARWEEK  YEAR  WEEK  \\\n",
       "0  SEOUL_BANK_001         PG02  PRODUCT0010  ITEM0115    201501  2015   1.0   \n",
       "1  SEOUL_BANK_001         PG02  PRODUCT0010  ITEM0115    201502  2015   2.0   \n",
       "2  SEOUL_BANK_001         PG02  PRODUCT0010  ITEM0115    201503  2015   3.0   \n",
       "3  SEOUL_BANK_001         PG02  PRODUCT0010  ITEM0115    201504  2015   4.0   \n",
       "4  SEOUL_BANK_001         PG02  PRODUCT0010  ITEM0115    201505  2015   5.0   \n",
       "\n",
       "      QTY HOLIDAY  HCLUS PROMOTION  PRO_PERCENT  PROMOTIONCODE  HOLIDAYCODE  \n",
       "0  1225.0       Y      1         Y     0.209442              1            1  \n",
       "1   968.0       N      4         Y     0.209442              1            0  \n",
       "2  1209.0       N      4         Y     0.208155              1            0  \n",
       "3  1810.0       Y      2         Y     0.208155              1            1  \n",
       "4  1773.0       N      4         Y     0.208155              1            0  "
      ]
     },
     "execution_count": 7,
     "metadata": {},
     "output_type": "execute_result"
    }
   ],
   "source": [
    "#case when \n",
    "############################\n",
    "def codeConversion(df):\n",
    "    if df == \"Y\":\n",
    "        return 1\n",
    "    else:\n",
    "        return 0\n",
    "    \n",
    "############################       \n",
    "    \n",
    "featuresData['PROMOTIONCODE'] = featuresData['PROMOTION'].apply(codeConversion)\n",
    "featuresData.head()\n",
    "\n",
    "featuresData['HOLIDAYCODE'] = featuresData['HOLIDAY'].apply(codeConversion)\n",
    "featuresData.head()"
   ]
  },
  {
   "cell_type": "markdown",
   "metadata": {},
   "source": [
    "### 4. 데이터 셋 분리"
   ]
  },
  {
   "cell_type": "code",
   "execution_count": 8,
   "metadata": {
    "collapsed": true
   },
   "outputs": [],
   "source": [
    "predictStd = 201630"
   ]
  },
  {
   "cell_type": "code",
   "execution_count": 9,
   "metadata": {},
   "outputs": [
    {
     "data": {
      "text/html": [
       "<div>\n",
       "<style scoped>\n",
       "    .dataframe tbody tr th:only-of-type {\n",
       "        vertical-align: middle;\n",
       "    }\n",
       "\n",
       "    .dataframe tbody tr th {\n",
       "        vertical-align: top;\n",
       "    }\n",
       "\n",
       "    .dataframe thead th {\n",
       "        text-align: right;\n",
       "    }\n",
       "</style>\n",
       "<table border=\"1\" class=\"dataframe\">\n",
       "  <thead>\n",
       "    <tr style=\"text-align: right;\">\n",
       "      <th></th>\n",
       "      <th>REGIONID</th>\n",
       "      <th>PRODUCTGROUP</th>\n",
       "      <th>PRODUCT</th>\n",
       "      <th>ITEM</th>\n",
       "      <th>YEARWEEK</th>\n",
       "      <th>YEAR</th>\n",
       "      <th>WEEK</th>\n",
       "      <th>QTY</th>\n",
       "      <th>HOLIDAY</th>\n",
       "      <th>HCLUS</th>\n",
       "      <th>PROMOTION</th>\n",
       "      <th>PRO_PERCENT</th>\n",
       "      <th>PROMOTIONCODE</th>\n",
       "      <th>HOLIDAYCODE</th>\n",
       "    </tr>\n",
       "  </thead>\n",
       "  <tbody>\n",
       "    <tr>\n",
       "      <th>0</th>\n",
       "      <td>SEOUL_BANK_001</td>\n",
       "      <td>PG02</td>\n",
       "      <td>PRODUCT0010</td>\n",
       "      <td>ITEM0115</td>\n",
       "      <td>201501</td>\n",
       "      <td>2015</td>\n",
       "      <td>1.0</td>\n",
       "      <td>1225.0</td>\n",
       "      <td>Y</td>\n",
       "      <td>1</td>\n",
       "      <td>Y</td>\n",
       "      <td>0.209442</td>\n",
       "      <td>1</td>\n",
       "      <td>1</td>\n",
       "    </tr>\n",
       "    <tr>\n",
       "      <th>1</th>\n",
       "      <td>SEOUL_BANK_001</td>\n",
       "      <td>PG02</td>\n",
       "      <td>PRODUCT0010</td>\n",
       "      <td>ITEM0115</td>\n",
       "      <td>201502</td>\n",
       "      <td>2015</td>\n",
       "      <td>2.0</td>\n",
       "      <td>968.0</td>\n",
       "      <td>N</td>\n",
       "      <td>4</td>\n",
       "      <td>Y</td>\n",
       "      <td>0.209442</td>\n",
       "      <td>1</td>\n",
       "      <td>0</td>\n",
       "    </tr>\n",
       "    <tr>\n",
       "      <th>2</th>\n",
       "      <td>SEOUL_BANK_001</td>\n",
       "      <td>PG02</td>\n",
       "      <td>PRODUCT0010</td>\n",
       "      <td>ITEM0115</td>\n",
       "      <td>201503</td>\n",
       "      <td>2015</td>\n",
       "      <td>3.0</td>\n",
       "      <td>1209.0</td>\n",
       "      <td>N</td>\n",
       "      <td>4</td>\n",
       "      <td>Y</td>\n",
       "      <td>0.208155</td>\n",
       "      <td>1</td>\n",
       "      <td>0</td>\n",
       "    </tr>\n",
       "    <tr>\n",
       "      <th>3</th>\n",
       "      <td>SEOUL_BANK_001</td>\n",
       "      <td>PG02</td>\n",
       "      <td>PRODUCT0010</td>\n",
       "      <td>ITEM0115</td>\n",
       "      <td>201504</td>\n",
       "      <td>2015</td>\n",
       "      <td>4.0</td>\n",
       "      <td>1810.0</td>\n",
       "      <td>Y</td>\n",
       "      <td>2</td>\n",
       "      <td>Y</td>\n",
       "      <td>0.208155</td>\n",
       "      <td>1</td>\n",
       "      <td>1</td>\n",
       "    </tr>\n",
       "    <tr>\n",
       "      <th>4</th>\n",
       "      <td>SEOUL_BANK_001</td>\n",
       "      <td>PG02</td>\n",
       "      <td>PRODUCT0010</td>\n",
       "      <td>ITEM0115</td>\n",
       "      <td>201505</td>\n",
       "      <td>2015</td>\n",
       "      <td>5.0</td>\n",
       "      <td>1773.0</td>\n",
       "      <td>N</td>\n",
       "      <td>4</td>\n",
       "      <td>Y</td>\n",
       "      <td>0.208155</td>\n",
       "      <td>1</td>\n",
       "      <td>0</td>\n",
       "    </tr>\n",
       "  </tbody>\n",
       "</table>\n",
       "</div>"
      ],
      "text/plain": [
       "         REGIONID PRODUCTGROUP      PRODUCT      ITEM  YEARWEEK  YEAR  WEEK  \\\n",
       "0  SEOUL_BANK_001         PG02  PRODUCT0010  ITEM0115    201501  2015   1.0   \n",
       "1  SEOUL_BANK_001         PG02  PRODUCT0010  ITEM0115    201502  2015   2.0   \n",
       "2  SEOUL_BANK_001         PG02  PRODUCT0010  ITEM0115    201503  2015   3.0   \n",
       "3  SEOUL_BANK_001         PG02  PRODUCT0010  ITEM0115    201504  2015   4.0   \n",
       "4  SEOUL_BANK_001         PG02  PRODUCT0010  ITEM0115    201505  2015   5.0   \n",
       "\n",
       "      QTY HOLIDAY  HCLUS PROMOTION  PRO_PERCENT  PROMOTIONCODE  HOLIDAYCODE  \n",
       "0  1225.0       Y      1         Y     0.209442              1            1  \n",
       "1   968.0       N      4         Y     0.209442              1            0  \n",
       "2  1209.0       N      4         Y     0.208155              1            0  \n",
       "3  1810.0       Y      2         Y     0.208155              1            1  \n",
       "4  1773.0       N      4         Y     0.208155              1            0  "
      ]
     },
     "execution_count": 9,
     "metadata": {},
     "output_type": "execute_result"
    }
   ],
   "source": [
    "#where between and (조건 절)\n",
    "trainingData = featuresData.query('YEARWEEK <= @predictStd')\n",
    "trainingData.head()"
   ]
  },
  {
   "cell_type": "code",
   "execution_count": 10,
   "metadata": {},
   "outputs": [
    {
     "data": {
      "text/plain": [
       "(83, 14)"
      ]
     },
     "execution_count": 10,
     "metadata": {},
     "output_type": "execute_result"
    }
   ],
   "source": [
    "trainingData.shape"
   ]
  },
  {
   "cell_type": "code",
   "execution_count": 11,
   "metadata": {
    "scrolled": true
   },
   "outputs": [
    {
     "data": {
      "text/html": [
       "<div>\n",
       "<style scoped>\n",
       "    .dataframe tbody tr th:only-of-type {\n",
       "        vertical-align: middle;\n",
       "    }\n",
       "\n",
       "    .dataframe tbody tr th {\n",
       "        vertical-align: top;\n",
       "    }\n",
       "\n",
       "    .dataframe thead th {\n",
       "        text-align: right;\n",
       "    }\n",
       "</style>\n",
       "<table border=\"1\" class=\"dataframe\">\n",
       "  <thead>\n",
       "    <tr style=\"text-align: right;\">\n",
       "      <th></th>\n",
       "      <th>REGIONID</th>\n",
       "      <th>PRODUCTGROUP</th>\n",
       "      <th>PRODUCT</th>\n",
       "      <th>ITEM</th>\n",
       "      <th>YEARWEEK</th>\n",
       "      <th>YEAR</th>\n",
       "      <th>WEEK</th>\n",
       "      <th>QTY</th>\n",
       "      <th>HOLIDAY</th>\n",
       "      <th>HCLUS</th>\n",
       "      <th>PROMOTION</th>\n",
       "      <th>PRO_PERCENT</th>\n",
       "      <th>PROMOTIONCODE</th>\n",
       "      <th>HOLIDAYCODE</th>\n",
       "    </tr>\n",
       "  </thead>\n",
       "  <tbody>\n",
       "    <tr>\n",
       "      <th>83</th>\n",
       "      <td>SEOUL_BANK_001</td>\n",
       "      <td>PG02</td>\n",
       "      <td>PRODUCT0010</td>\n",
       "      <td>ITEM0115</td>\n",
       "      <td>201631</td>\n",
       "      <td>2016</td>\n",
       "      <td>31.0</td>\n",
       "      <td>1522.0</td>\n",
       "      <td>N</td>\n",
       "      <td>4</td>\n",
       "      <td>Y</td>\n",
       "      <td>0.280258</td>\n",
       "      <td>1</td>\n",
       "      <td>0</td>\n",
       "    </tr>\n",
       "    <tr>\n",
       "      <th>84</th>\n",
       "      <td>SEOUL_BANK_001</td>\n",
       "      <td>PG02</td>\n",
       "      <td>PRODUCT0010</td>\n",
       "      <td>ITEM0115</td>\n",
       "      <td>201632</td>\n",
       "      <td>2016</td>\n",
       "      <td>32.0</td>\n",
       "      <td>2100.0</td>\n",
       "      <td>N</td>\n",
       "      <td>4</td>\n",
       "      <td>Y</td>\n",
       "      <td>0.280258</td>\n",
       "      <td>1</td>\n",
       "      <td>0</td>\n",
       "    </tr>\n",
       "    <tr>\n",
       "      <th>85</th>\n",
       "      <td>SEOUL_BANK_001</td>\n",
       "      <td>PG02</td>\n",
       "      <td>PRODUCT0010</td>\n",
       "      <td>ITEM0115</td>\n",
       "      <td>201633</td>\n",
       "      <td>2016</td>\n",
       "      <td>33.0</td>\n",
       "      <td>43.0</td>\n",
       "      <td>N</td>\n",
       "      <td>4</td>\n",
       "      <td>N</td>\n",
       "      <td>0.000000</td>\n",
       "      <td>0</td>\n",
       "      <td>0</td>\n",
       "    </tr>\n",
       "    <tr>\n",
       "      <th>86</th>\n",
       "      <td>SEOUL_BANK_001</td>\n",
       "      <td>PG02</td>\n",
       "      <td>PRODUCT0010</td>\n",
       "      <td>ITEM0115</td>\n",
       "      <td>201634</td>\n",
       "      <td>2016</td>\n",
       "      <td>34.0</td>\n",
       "      <td>1700.0</td>\n",
       "      <td>Y</td>\n",
       "      <td>1</td>\n",
       "      <td>Y</td>\n",
       "      <td>0.308584</td>\n",
       "      <td>1</td>\n",
       "      <td>1</td>\n",
       "    </tr>\n",
       "    <tr>\n",
       "      <th>87</th>\n",
       "      <td>SEOUL_BANK_001</td>\n",
       "      <td>PG02</td>\n",
       "      <td>PRODUCT0010</td>\n",
       "      <td>ITEM0115</td>\n",
       "      <td>201635</td>\n",
       "      <td>2016</td>\n",
       "      <td>35.0</td>\n",
       "      <td>1514.0</td>\n",
       "      <td>Y</td>\n",
       "      <td>1</td>\n",
       "      <td>Y</td>\n",
       "      <td>0.308584</td>\n",
       "      <td>1</td>\n",
       "      <td>1</td>\n",
       "    </tr>\n",
       "  </tbody>\n",
       "</table>\n",
       "</div>"
      ],
      "text/plain": [
       "          REGIONID PRODUCTGROUP      PRODUCT      ITEM  YEARWEEK  YEAR  WEEK  \\\n",
       "83  SEOUL_BANK_001         PG02  PRODUCT0010  ITEM0115    201631  2016  31.0   \n",
       "84  SEOUL_BANK_001         PG02  PRODUCT0010  ITEM0115    201632  2016  32.0   \n",
       "85  SEOUL_BANK_001         PG02  PRODUCT0010  ITEM0115    201633  2016  33.0   \n",
       "86  SEOUL_BANK_001         PG02  PRODUCT0010  ITEM0115    201634  2016  34.0   \n",
       "87  SEOUL_BANK_001         PG02  PRODUCT0010  ITEM0115    201635  2016  35.0   \n",
       "\n",
       "       QTY HOLIDAY  HCLUS PROMOTION  PRO_PERCENT  PROMOTIONCODE  HOLIDAYCODE  \n",
       "83  1522.0       N      4         Y     0.280258              1            0  \n",
       "84  2100.0       N      4         Y     0.280258              1            0  \n",
       "85    43.0       N      4         N     0.000000              0            0  \n",
       "86  1700.0       Y      1         Y     0.308584              1            1  \n",
       "87  1514.0       Y      1         Y     0.308584              1            1  "
      ]
     },
     "execution_count": 11,
     "metadata": {},
     "output_type": "execute_result"
    }
   ],
   "source": [
    "#where between and (조건 절)\n",
    "testData = featuresData.query('YEARWEEK > @predictStd')\n",
    "testData.head()"
   ]
  },
  {
   "cell_type": "code",
   "execution_count": 12,
   "metadata": {
    "collapsed": true
   },
   "outputs": [],
   "source": [
    "trainingData_feature = trainingData[['PRO_PERCENT','HOLIDAYCODE']]"
   ]
  },
  {
   "cell_type": "code",
   "execution_count": 13,
   "metadata": {
    "collapsed": true
   },
   "outputs": [],
   "source": [
    "trainingData_label = trainingData[['QTY']]"
   ]
  },
  {
   "cell_type": "code",
   "execution_count": 14,
   "metadata": {
    "collapsed": true
   },
   "outputs": [],
   "source": [
    "testData_feature = testData[['PRO_PERCENT','HOLIDAYCODE']]"
   ]
  },
  {
   "cell_type": "code",
   "execution_count": 15,
   "metadata": {
    "collapsed": true
   },
   "outputs": [],
   "source": [
    "testData_label = testData[['QTY']]"
   ]
  },
  {
   "cell_type": "markdown",
   "metadata": {},
   "source": [
    "### 5. 모델선언 및 예측 (Linear Regression)\n"
   ]
  },
  {
   "cell_type": "code",
   "execution_count": 16,
   "metadata": {
    "collapsed": true
   },
   "outputs": [],
   "source": [
    "from sklearn import datasets, linear_model"
   ]
  },
  {
   "cell_type": "code",
   "execution_count": 17,
   "metadata": {
    "collapsed": true
   },
   "outputs": [],
   "source": [
    "#lm = linear_model.LinearRegression()\n",
    "#model = lm.fit(trainingData_feature, trainingData_label)\n",
    "#predictions = lm.predict(testData_feature)"
   ]
  },
  {
   "cell_type": "code",
   "execution_count": 40,
   "metadata": {},
   "outputs": [],
   "source": [
    "model_method= tree.DecisionTreeClassifier()\n",
    "model = model_method.fit(trainingData_feature, trainingData_label)\n",
    "predictions = model_method.predict(testData_feature)"
   ]
  },
  {
   "cell_type": "markdown",
   "metadata": {},
   "source": [
    "### 6. 데이터 정리"
   ]
  },
  {
   "cell_type": "code",
   "execution_count": 41,
   "metadata": {
    "collapsed": true
   },
   "outputs": [],
   "source": [
    "predictData = pd.DataFrame(predictions)"
   ]
  },
  {
   "cell_type": "code",
   "execution_count": 42,
   "metadata": {
    "collapsed": true
   },
   "outputs": [],
   "source": [
    "predictData.columns = [\"PREDICT\"]"
   ]
  },
  {
   "cell_type": "code",
   "execution_count": 43,
   "metadata": {
    "collapsed": true
   },
   "outputs": [],
   "source": [
    "testData.reset_index(drop=True, inplace=True)"
   ]
  },
  {
   "cell_type": "code",
   "execution_count": 44,
   "metadata": {
    "collapsed": true
   },
   "outputs": [],
   "source": [
    "predictData.reset_index(drop=True, inplace=True)"
   ]
  },
  {
   "cell_type": "code",
   "execution_count": 45,
   "metadata": {
    "collapsed": true
   },
   "outputs": [],
   "source": [
    "#testData_feature.reset_index(drop=True, inplace=True)"
   ]
  },
  {
   "cell_type": "code",
   "execution_count": 46,
   "metadata": {
    "collapsed": true
   },
   "outputs": [],
   "source": [
    "#cncatenate labels to df as a new column / column binding\n",
    "finalDf = pd.concat([testData, predictData], axis = 1)"
   ]
  },
  {
   "cell_type": "code",
   "execution_count": 47,
   "metadata": {
    "scrolled": false
   },
   "outputs": [
    {
     "data": {
      "text/html": [
       "<div>\n",
       "<style scoped>\n",
       "    .dataframe tbody tr th:only-of-type {\n",
       "        vertical-align: middle;\n",
       "    }\n",
       "\n",
       "    .dataframe tbody tr th {\n",
       "        vertical-align: top;\n",
       "    }\n",
       "\n",
       "    .dataframe thead th {\n",
       "        text-align: right;\n",
       "    }\n",
       "</style>\n",
       "<table border=\"1\" class=\"dataframe\">\n",
       "  <thead>\n",
       "    <tr style=\"text-align: right;\">\n",
       "      <th></th>\n",
       "      <th>REGIONID</th>\n",
       "      <th>PRODUCTGROUP</th>\n",
       "      <th>PRODUCT</th>\n",
       "      <th>ITEM</th>\n",
       "      <th>YEARWEEK</th>\n",
       "      <th>YEAR</th>\n",
       "      <th>WEEK</th>\n",
       "      <th>QTY</th>\n",
       "      <th>HOLIDAY</th>\n",
       "      <th>HCLUS</th>\n",
       "      <th>PROMOTION</th>\n",
       "      <th>PRO_PERCENT</th>\n",
       "      <th>PROMOTIONCODE</th>\n",
       "      <th>HOLIDAYCODE</th>\n",
       "      <th>PREDICT</th>\n",
       "    </tr>\n",
       "  </thead>\n",
       "  <tbody>\n",
       "    <tr>\n",
       "      <th>0</th>\n",
       "      <td>SEOUL_BANK_001</td>\n",
       "      <td>PG02</td>\n",
       "      <td>PRODUCT0010</td>\n",
       "      <td>ITEM0115</td>\n",
       "      <td>201631</td>\n",
       "      <td>2016</td>\n",
       "      <td>31.0</td>\n",
       "      <td>1522.0</td>\n",
       "      <td>N</td>\n",
       "      <td>4</td>\n",
       "      <td>Y</td>\n",
       "      <td>0.280258</td>\n",
       "      <td>1</td>\n",
       "      <td>0</td>\n",
       "      <td>973.0</td>\n",
       "    </tr>\n",
       "    <tr>\n",
       "      <th>1</th>\n",
       "      <td>SEOUL_BANK_001</td>\n",
       "      <td>PG02</td>\n",
       "      <td>PRODUCT0010</td>\n",
       "      <td>ITEM0115</td>\n",
       "      <td>201632</td>\n",
       "      <td>2016</td>\n",
       "      <td>32.0</td>\n",
       "      <td>2100.0</td>\n",
       "      <td>N</td>\n",
       "      <td>4</td>\n",
       "      <td>Y</td>\n",
       "      <td>0.280258</td>\n",
       "      <td>1</td>\n",
       "      <td>0</td>\n",
       "      <td>973.0</td>\n",
       "    </tr>\n",
       "    <tr>\n",
       "      <th>2</th>\n",
       "      <td>SEOUL_BANK_001</td>\n",
       "      <td>PG02</td>\n",
       "      <td>PRODUCT0010</td>\n",
       "      <td>ITEM0115</td>\n",
       "      <td>201633</td>\n",
       "      <td>2016</td>\n",
       "      <td>33.0</td>\n",
       "      <td>43.0</td>\n",
       "      <td>N</td>\n",
       "      <td>4</td>\n",
       "      <td>N</td>\n",
       "      <td>0.000000</td>\n",
       "      <td>0</td>\n",
       "      <td>0</td>\n",
       "      <td>16.0</td>\n",
       "    </tr>\n",
       "    <tr>\n",
       "      <th>3</th>\n",
       "      <td>SEOUL_BANK_001</td>\n",
       "      <td>PG02</td>\n",
       "      <td>PRODUCT0010</td>\n",
       "      <td>ITEM0115</td>\n",
       "      <td>201634</td>\n",
       "      <td>2016</td>\n",
       "      <td>34.0</td>\n",
       "      <td>1700.0</td>\n",
       "      <td>Y</td>\n",
       "      <td>1</td>\n",
       "      <td>Y</td>\n",
       "      <td>0.308584</td>\n",
       "      <td>1</td>\n",
       "      <td>1</td>\n",
       "      <td>968.0</td>\n",
       "    </tr>\n",
       "    <tr>\n",
       "      <th>4</th>\n",
       "      <td>SEOUL_BANK_001</td>\n",
       "      <td>PG02</td>\n",
       "      <td>PRODUCT0010</td>\n",
       "      <td>ITEM0115</td>\n",
       "      <td>201635</td>\n",
       "      <td>2016</td>\n",
       "      <td>35.0</td>\n",
       "      <td>1514.0</td>\n",
       "      <td>Y</td>\n",
       "      <td>1</td>\n",
       "      <td>Y</td>\n",
       "      <td>0.308584</td>\n",
       "      <td>1</td>\n",
       "      <td>1</td>\n",
       "      <td>968.0</td>\n",
       "    </tr>\n",
       "  </tbody>\n",
       "</table>\n",
       "</div>"
      ],
      "text/plain": [
       "         REGIONID PRODUCTGROUP      PRODUCT      ITEM  YEARWEEK  YEAR  WEEK  \\\n",
       "0  SEOUL_BANK_001         PG02  PRODUCT0010  ITEM0115    201631  2016  31.0   \n",
       "1  SEOUL_BANK_001         PG02  PRODUCT0010  ITEM0115    201632  2016  32.0   \n",
       "2  SEOUL_BANK_001         PG02  PRODUCT0010  ITEM0115    201633  2016  33.0   \n",
       "3  SEOUL_BANK_001         PG02  PRODUCT0010  ITEM0115    201634  2016  34.0   \n",
       "4  SEOUL_BANK_001         PG02  PRODUCT0010  ITEM0115    201635  2016  35.0   \n",
       "\n",
       "      QTY HOLIDAY  HCLUS PROMOTION  PRO_PERCENT  PROMOTIONCODE  HOLIDAYCODE  \\\n",
       "0  1522.0       N      4         Y     0.280258              1            0   \n",
       "1  2100.0       N      4         Y     0.280258              1            0   \n",
       "2    43.0       N      4         N     0.000000              0            0   \n",
       "3  1700.0       Y      1         Y     0.308584              1            1   \n",
       "4  1514.0       Y      1         Y     0.308584              1            1   \n",
       "\n",
       "   PREDICT  \n",
       "0    973.0  \n",
       "1    973.0  \n",
       "2     16.0  \n",
       "3    968.0  \n",
       "4    968.0  "
      ]
     },
     "execution_count": 47,
     "metadata": {},
     "output_type": "execute_result"
    }
   ],
   "source": [
    "finalDf.head()"
   ]
  },
  {
   "cell_type": "markdown",
   "metadata": {},
   "source": [
    "### 7 상관관계 계수 측정"
   ]
  },
  {
   "cell_type": "code",
   "execution_count": 48,
   "metadata": {
    "collapsed": true
   },
   "outputs": [],
   "source": [
    "df_corr= finalDf[['WEEK','HOLIDAYCODE','PRO_PERCENT','QTY','PREDICT']]"
   ]
  },
  {
   "cell_type": "code",
   "execution_count": 49,
   "metadata": {
    "collapsed": true
   },
   "outputs": [],
   "source": [
    "corr = df_corr.corr(method='pearson')"
   ]
  },
  {
   "cell_type": "code",
   "execution_count": 50,
   "metadata": {},
   "outputs": [
    {
     "data": {
      "text/html": [
       "<div>\n",
       "<style scoped>\n",
       "    .dataframe tbody tr th:only-of-type {\n",
       "        vertical-align: middle;\n",
       "    }\n",
       "\n",
       "    .dataframe tbody tr th {\n",
       "        vertical-align: top;\n",
       "    }\n",
       "\n",
       "    .dataframe thead th {\n",
       "        text-align: right;\n",
       "    }\n",
       "</style>\n",
       "<table border=\"1\" class=\"dataframe\">\n",
       "  <thead>\n",
       "    <tr style=\"text-align: right;\">\n",
       "      <th></th>\n",
       "      <th>WEEK</th>\n",
       "      <th>HOLIDAYCODE</th>\n",
       "      <th>PRO_PERCENT</th>\n",
       "      <th>QTY</th>\n",
       "      <th>PREDICT</th>\n",
       "    </tr>\n",
       "  </thead>\n",
       "  <tbody>\n",
       "    <tr>\n",
       "      <th>WEEK</th>\n",
       "      <td>1.000000</td>\n",
       "      <td>0.311909</td>\n",
       "      <td>0.721089</td>\n",
       "      <td>0.475861</td>\n",
       "      <td>0.796057</td>\n",
       "    </tr>\n",
       "    <tr>\n",
       "      <th>HOLIDAYCODE</th>\n",
       "      <td>0.311909</td>\n",
       "      <td>1.000000</td>\n",
       "      <td>0.509577</td>\n",
       "      <td>0.288627</td>\n",
       "      <td>0.481226</td>\n",
       "    </tr>\n",
       "    <tr>\n",
       "      <th>PRO_PERCENT</th>\n",
       "      <td>0.721089</td>\n",
       "      <td>0.509577</td>\n",
       "      <td>1.000000</td>\n",
       "      <td>0.753792</td>\n",
       "      <td>0.920682</td>\n",
       "    </tr>\n",
       "    <tr>\n",
       "      <th>QTY</th>\n",
       "      <td>0.475861</td>\n",
       "      <td>0.288627</td>\n",
       "      <td>0.753792</td>\n",
       "      <td>1.000000</td>\n",
       "      <td>0.583816</td>\n",
       "    </tr>\n",
       "    <tr>\n",
       "      <th>PREDICT</th>\n",
       "      <td>0.796057</td>\n",
       "      <td>0.481226</td>\n",
       "      <td>0.920682</td>\n",
       "      <td>0.583816</td>\n",
       "      <td>1.000000</td>\n",
       "    </tr>\n",
       "  </tbody>\n",
       "</table>\n",
       "</div>"
      ],
      "text/plain": [
       "                 WEEK  HOLIDAYCODE  PRO_PERCENT       QTY   PREDICT\n",
       "WEEK         1.000000     0.311909     0.721089  0.475861  0.796057\n",
       "HOLIDAYCODE  0.311909     1.000000     0.509577  0.288627  0.481226\n",
       "PRO_PERCENT  0.721089     0.509577     1.000000  0.753792  0.920682\n",
       "QTY          0.475861     0.288627     0.753792  1.000000  0.583816\n",
       "PREDICT      0.796057     0.481226     0.920682  0.583816  1.000000"
      ]
     },
     "execution_count": 50,
     "metadata": {},
     "output_type": "execute_result"
    }
   ],
   "source": [
    "corr"
   ]
  },
  {
   "cell_type": "code",
   "execution_count": 51,
   "metadata": {
    "scrolled": true
   },
   "outputs": [
    {
     "name": "stdout",
     "output_type": "stream",
     "text": [
      "                 WEEK  HOLIDAYCODE  PRO_PERCENT       QTY   PREDICT\n",
      "WEEK         1.000000     0.311909     0.721089  0.475861  0.796057\n",
      "HOLIDAYCODE  0.311909     1.000000     0.509577  0.288627  0.481226\n",
      "PRO_PERCENT  0.721089     0.509577     1.000000  0.753792  0.920682\n",
      "QTY          0.475861     0.288627     0.753792  1.000000  0.583816\n",
      "PREDICT      0.796057     0.481226     0.920682  0.583816  1.000000\n"
     ]
    }
   ],
   "source": [
    "print(corr)"
   ]
  },
  {
   "cell_type": "markdown",
   "metadata": {},
   "source": [
    "### 8. 정확도 측정"
   ]
  },
  {
   "cell_type": "code",
   "execution_count": 52,
   "metadata": {},
   "outputs": [
    {
     "data": {
      "text/plain": [
       "566.4583333333334"
      ]
     },
     "execution_count": 52,
     "metadata": {},
     "output_type": "execute_result"
    }
   ],
   "source": [
    "mean_absolute_error(finalDf['QTY'], finalDf['PREDICT'])  "
   ]
  },
  {
   "cell_type": "code",
   "execution_count": 53,
   "metadata": {},
   "outputs": [
    {
     "data": {
      "text/plain": [
       "520558.125"
      ]
     },
     "execution_count": 53,
     "metadata": {},
     "output_type": "execute_result"
    }
   ],
   "source": [
    "mean_squared_error(finalDf['QTY'], finalDf['PREDICT'])  "
   ]
  },
  {
   "cell_type": "code",
   "execution_count": 54,
   "metadata": {
    "collapsed": true
   },
   "outputs": [],
   "source": [
    "finalDf.to_csv(\"./linear_result_sun.csv\")"
   ]
  },
  {
   "cell_type": "markdown",
   "metadata": {},
   "source": [
    "### 시각화 처리"
   ]
  },
  {
   "cell_type": "code",
   "execution_count": 55,
   "metadata": {
    "collapsed": true
   },
   "outputs": [],
   "source": [
    "#바로 차트가 시현되도록 설정\n",
    "%matplotlib inline"
   ]
  },
  {
   "cell_type": "code",
   "execution_count": 56,
   "metadata": {},
   "outputs": [
    {
     "data": {
      "text/plain": [
       "<matplotlib.figure.Figure at 0x176cf84ec50>"
      ]
     },
     "execution_count": 56,
     "metadata": {},
     "output_type": "execute_result"
    },
    {
     "data": {
      "text/plain": [
       "<matplotlib.figure.Figure at 0x176cf84ec50>"
      ]
     },
     "metadata": {},
     "output_type": "display_data"
    }
   ],
   "source": [
    "plt.figure(figsize=(25,5))"
   ]
  },
  {
   "cell_type": "code",
   "execution_count": 57,
   "metadata": {},
   "outputs": [
    {
     "data": {
      "text/plain": [
       "RangeIndex(start=0, stop=24, step=1)"
      ]
     },
     "execution_count": 57,
     "metadata": {},
     "output_type": "execute_result"
    }
   ],
   "source": [
    "finalDf['WEEK'].index"
   ]
  },
  {
   "cell_type": "code",
   "execution_count": 58,
   "metadata": {},
   "outputs": [
    {
     "data": {
      "text/html": [
       "<div>\n",
       "<style scoped>\n",
       "    .dataframe tbody tr th:only-of-type {\n",
       "        vertical-align: middle;\n",
       "    }\n",
       "\n",
       "    .dataframe tbody tr th {\n",
       "        vertical-align: top;\n",
       "    }\n",
       "\n",
       "    .dataframe thead th {\n",
       "        text-align: right;\n",
       "    }\n",
       "</style>\n",
       "<table border=\"1\" class=\"dataframe\">\n",
       "  <thead>\n",
       "    <tr style=\"text-align: right;\">\n",
       "      <th></th>\n",
       "      <th>REGIONID</th>\n",
       "      <th>PRODUCTGROUP</th>\n",
       "      <th>PRODUCT</th>\n",
       "      <th>ITEM</th>\n",
       "      <th>YEARWEEK</th>\n",
       "      <th>YEAR</th>\n",
       "      <th>WEEK</th>\n",
       "      <th>QTY</th>\n",
       "      <th>HOLIDAY</th>\n",
       "      <th>HCLUS</th>\n",
       "      <th>PROMOTION</th>\n",
       "      <th>PRO_PERCENT</th>\n",
       "      <th>PROMOTIONCODE</th>\n",
       "      <th>HOLIDAYCODE</th>\n",
       "      <th>PREDICT</th>\n",
       "    </tr>\n",
       "  </thead>\n",
       "  <tbody>\n",
       "    <tr>\n",
       "      <th>0</th>\n",
       "      <td>SEOUL_BANK_001</td>\n",
       "      <td>PG02</td>\n",
       "      <td>PRODUCT0010</td>\n",
       "      <td>ITEM0115</td>\n",
       "      <td>201631</td>\n",
       "      <td>2016</td>\n",
       "      <td>31.0</td>\n",
       "      <td>1522.0</td>\n",
       "      <td>N</td>\n",
       "      <td>4</td>\n",
       "      <td>Y</td>\n",
       "      <td>0.280258</td>\n",
       "      <td>1</td>\n",
       "      <td>0</td>\n",
       "      <td>973.0</td>\n",
       "    </tr>\n",
       "    <tr>\n",
       "      <th>1</th>\n",
       "      <td>SEOUL_BANK_001</td>\n",
       "      <td>PG02</td>\n",
       "      <td>PRODUCT0010</td>\n",
       "      <td>ITEM0115</td>\n",
       "      <td>201632</td>\n",
       "      <td>2016</td>\n",
       "      <td>32.0</td>\n",
       "      <td>2100.0</td>\n",
       "      <td>N</td>\n",
       "      <td>4</td>\n",
       "      <td>Y</td>\n",
       "      <td>0.280258</td>\n",
       "      <td>1</td>\n",
       "      <td>0</td>\n",
       "      <td>973.0</td>\n",
       "    </tr>\n",
       "    <tr>\n",
       "      <th>2</th>\n",
       "      <td>SEOUL_BANK_001</td>\n",
       "      <td>PG02</td>\n",
       "      <td>PRODUCT0010</td>\n",
       "      <td>ITEM0115</td>\n",
       "      <td>201633</td>\n",
       "      <td>2016</td>\n",
       "      <td>33.0</td>\n",
       "      <td>43.0</td>\n",
       "      <td>N</td>\n",
       "      <td>4</td>\n",
       "      <td>N</td>\n",
       "      <td>0.000000</td>\n",
       "      <td>0</td>\n",
       "      <td>0</td>\n",
       "      <td>16.0</td>\n",
       "    </tr>\n",
       "    <tr>\n",
       "      <th>3</th>\n",
       "      <td>SEOUL_BANK_001</td>\n",
       "      <td>PG02</td>\n",
       "      <td>PRODUCT0010</td>\n",
       "      <td>ITEM0115</td>\n",
       "      <td>201634</td>\n",
       "      <td>2016</td>\n",
       "      <td>34.0</td>\n",
       "      <td>1700.0</td>\n",
       "      <td>Y</td>\n",
       "      <td>1</td>\n",
       "      <td>Y</td>\n",
       "      <td>0.308584</td>\n",
       "      <td>1</td>\n",
       "      <td>1</td>\n",
       "      <td>968.0</td>\n",
       "    </tr>\n",
       "    <tr>\n",
       "      <th>4</th>\n",
       "      <td>SEOUL_BANK_001</td>\n",
       "      <td>PG02</td>\n",
       "      <td>PRODUCT0010</td>\n",
       "      <td>ITEM0115</td>\n",
       "      <td>201635</td>\n",
       "      <td>2016</td>\n",
       "      <td>35.0</td>\n",
       "      <td>1514.0</td>\n",
       "      <td>Y</td>\n",
       "      <td>1</td>\n",
       "      <td>Y</td>\n",
       "      <td>0.308584</td>\n",
       "      <td>1</td>\n",
       "      <td>1</td>\n",
       "      <td>968.0</td>\n",
       "    </tr>\n",
       "  </tbody>\n",
       "</table>\n",
       "</div>"
      ],
      "text/plain": [
       "         REGIONID PRODUCTGROUP      PRODUCT      ITEM  YEARWEEK  YEAR  WEEK  \\\n",
       "0  SEOUL_BANK_001         PG02  PRODUCT0010  ITEM0115    201631  2016  31.0   \n",
       "1  SEOUL_BANK_001         PG02  PRODUCT0010  ITEM0115    201632  2016  32.0   \n",
       "2  SEOUL_BANK_001         PG02  PRODUCT0010  ITEM0115    201633  2016  33.0   \n",
       "3  SEOUL_BANK_001         PG02  PRODUCT0010  ITEM0115    201634  2016  34.0   \n",
       "4  SEOUL_BANK_001         PG02  PRODUCT0010  ITEM0115    201635  2016  35.0   \n",
       "\n",
       "      QTY HOLIDAY  HCLUS PROMOTION  PRO_PERCENT  PROMOTIONCODE  HOLIDAYCODE  \\\n",
       "0  1522.0       N      4         Y     0.280258              1            0   \n",
       "1  2100.0       N      4         Y     0.280258              1            0   \n",
       "2    43.0       N      4         N     0.000000              0            0   \n",
       "3  1700.0       Y      1         Y     0.308584              1            1   \n",
       "4  1514.0       Y      1         Y     0.308584              1            1   \n",
       "\n",
       "   PREDICT  \n",
       "0    973.0  \n",
       "1    973.0  \n",
       "2     16.0  \n",
       "3    968.0  \n",
       "4    968.0  "
      ]
     },
     "execution_count": 58,
     "metadata": {},
     "output_type": "execute_result"
    }
   ],
   "source": [
    "finalDf.head()"
   ]
  },
  {
   "cell_type": "code",
   "execution_count": 59,
   "metadata": {},
   "outputs": [
    {
     "data": {
      "text/html": [
       "<div>\n",
       "<style scoped>\n",
       "    .dataframe tbody tr th:only-of-type {\n",
       "        vertical-align: middle;\n",
       "    }\n",
       "\n",
       "    .dataframe tbody tr th {\n",
       "        vertical-align: top;\n",
       "    }\n",
       "\n",
       "    .dataframe thead th {\n",
       "        text-align: right;\n",
       "    }\n",
       "</style>\n",
       "<table border=\"1\" class=\"dataframe\">\n",
       "  <thead>\n",
       "    <tr style=\"text-align: right;\">\n",
       "      <th></th>\n",
       "      <th>REGIONID</th>\n",
       "      <th>PRODUCTGROUP</th>\n",
       "      <th>PRODUCT</th>\n",
       "      <th>ITEM</th>\n",
       "      <th>YEARWEEK</th>\n",
       "      <th>YEAR</th>\n",
       "      <th>WEEK</th>\n",
       "      <th>QTY</th>\n",
       "      <th>HOLIDAY</th>\n",
       "      <th>HCLUS</th>\n",
       "      <th>PROMOTION</th>\n",
       "      <th>PRO_PERCENT</th>\n",
       "      <th>PROMOTIONCODE</th>\n",
       "      <th>HOLIDAYCODE</th>\n",
       "      <th>PREDICT</th>\n",
       "    </tr>\n",
       "  </thead>\n",
       "  <tbody>\n",
       "    <tr>\n",
       "      <th>0</th>\n",
       "      <td>SEOUL_BANK_001</td>\n",
       "      <td>PG02</td>\n",
       "      <td>PRODUCT0010</td>\n",
       "      <td>ITEM0115</td>\n",
       "      <td>201631</td>\n",
       "      <td>2016</td>\n",
       "      <td>31.0</td>\n",
       "      <td>1522.0</td>\n",
       "      <td>N</td>\n",
       "      <td>4</td>\n",
       "      <td>Y</td>\n",
       "      <td>0.280258</td>\n",
       "      <td>1</td>\n",
       "      <td>0</td>\n",
       "      <td>973.0</td>\n",
       "    </tr>\n",
       "    <tr>\n",
       "      <th>1</th>\n",
       "      <td>SEOUL_BANK_001</td>\n",
       "      <td>PG02</td>\n",
       "      <td>PRODUCT0010</td>\n",
       "      <td>ITEM0115</td>\n",
       "      <td>201632</td>\n",
       "      <td>2016</td>\n",
       "      <td>32.0</td>\n",
       "      <td>2100.0</td>\n",
       "      <td>N</td>\n",
       "      <td>4</td>\n",
       "      <td>Y</td>\n",
       "      <td>0.280258</td>\n",
       "      <td>1</td>\n",
       "      <td>0</td>\n",
       "      <td>973.0</td>\n",
       "    </tr>\n",
       "    <tr>\n",
       "      <th>2</th>\n",
       "      <td>SEOUL_BANK_001</td>\n",
       "      <td>PG02</td>\n",
       "      <td>PRODUCT0010</td>\n",
       "      <td>ITEM0115</td>\n",
       "      <td>201633</td>\n",
       "      <td>2016</td>\n",
       "      <td>33.0</td>\n",
       "      <td>43.0</td>\n",
       "      <td>N</td>\n",
       "      <td>4</td>\n",
       "      <td>N</td>\n",
       "      <td>0.000000</td>\n",
       "      <td>0</td>\n",
       "      <td>0</td>\n",
       "      <td>16.0</td>\n",
       "    </tr>\n",
       "    <tr>\n",
       "      <th>3</th>\n",
       "      <td>SEOUL_BANK_001</td>\n",
       "      <td>PG02</td>\n",
       "      <td>PRODUCT0010</td>\n",
       "      <td>ITEM0115</td>\n",
       "      <td>201634</td>\n",
       "      <td>2016</td>\n",
       "      <td>34.0</td>\n",
       "      <td>1700.0</td>\n",
       "      <td>Y</td>\n",
       "      <td>1</td>\n",
       "      <td>Y</td>\n",
       "      <td>0.308584</td>\n",
       "      <td>1</td>\n",
       "      <td>1</td>\n",
       "      <td>968.0</td>\n",
       "    </tr>\n",
       "    <tr>\n",
       "      <th>4</th>\n",
       "      <td>SEOUL_BANK_001</td>\n",
       "      <td>PG02</td>\n",
       "      <td>PRODUCT0010</td>\n",
       "      <td>ITEM0115</td>\n",
       "      <td>201635</td>\n",
       "      <td>2016</td>\n",
       "      <td>35.0</td>\n",
       "      <td>1514.0</td>\n",
       "      <td>Y</td>\n",
       "      <td>1</td>\n",
       "      <td>Y</td>\n",
       "      <td>0.308584</td>\n",
       "      <td>1</td>\n",
       "      <td>1</td>\n",
       "      <td>968.0</td>\n",
       "    </tr>\n",
       "  </tbody>\n",
       "</table>\n",
       "</div>"
      ],
      "text/plain": [
       "         REGIONID PRODUCTGROUP      PRODUCT      ITEM  YEARWEEK  YEAR  WEEK  \\\n",
       "0  SEOUL_BANK_001         PG02  PRODUCT0010  ITEM0115    201631  2016  31.0   \n",
       "1  SEOUL_BANK_001         PG02  PRODUCT0010  ITEM0115    201632  2016  32.0   \n",
       "2  SEOUL_BANK_001         PG02  PRODUCT0010  ITEM0115    201633  2016  33.0   \n",
       "3  SEOUL_BANK_001         PG02  PRODUCT0010  ITEM0115    201634  2016  34.0   \n",
       "4  SEOUL_BANK_001         PG02  PRODUCT0010  ITEM0115    201635  2016  35.0   \n",
       "\n",
       "      QTY HOLIDAY  HCLUS PROMOTION  PRO_PERCENT  PROMOTIONCODE  HOLIDAYCODE  \\\n",
       "0  1522.0       N      4         Y     0.280258              1            0   \n",
       "1  2100.0       N      4         Y     0.280258              1            0   \n",
       "2    43.0       N      4         N     0.000000              0            0   \n",
       "3  1700.0       Y      1         Y     0.308584              1            1   \n",
       "4  1514.0       Y      1         Y     0.308584              1            1   \n",
       "\n",
       "   PREDICT  \n",
       "0    973.0  \n",
       "1    973.0  \n",
       "2     16.0  \n",
       "3    968.0  \n",
       "4    968.0  "
      ]
     },
     "execution_count": 59,
     "metadata": {},
     "output_type": "execute_result"
    }
   ],
   "source": [
    "finalDf.head()"
   ]
  },
  {
   "cell_type": "code",
   "execution_count": 60,
   "metadata": {},
   "outputs": [
    {
     "data": {
      "text/plain": [
       "Text(0,0.5,'value')"
      ]
     },
     "execution_count": 60,
     "metadata": {},
     "output_type": "execute_result"
    },
    {
     "data": {
      "image/png": "[encoded data removed]",
      "text/plain": [
       "<matplotlib.figure.Figure at 0x176d1b23f28>"
      ]
     },
     "metadata": {},
     "output_type": "display_data"
    }
   ],
   "source": [
    "plt.figure(figsize=(7,5))\n",
    "plt.subplot(211)\n",
    "plt.plot(finalDf['WEEK'].index, finalDf['PREDICT'], \"g\", label='PREDICT')\n",
    "plt.grid(True)\n",
    "plt.legend(loc=0)\n",
    "plt.ylabel('value')\n",
    "plt.title('A Simple Plot')\n",
    "plt.subplot(212)\n",
    "plt.plot(finalDf['WEEK'].index,finalDf['QTY'],label='ACTUAL QTY')\n",
    "plt.grid(True)\n",
    "plt.legend(loc=0)\n",
    "plt.xlabel('index')\n",
    "plt.ylabel('value')"
   ]
  },
  {
   "cell_type": "code",
   "execution_count": 61,
   "metadata": {
    "scrolled": true
   },
   "outputs": [
    {
     "data": {
      "text/plain": [
       "Text(0,0.5,'value 2nd')"
      ]
     },
     "execution_count": 61,
     "metadata": {},
     "output_type": "execute_result"
    },
    {
     "data": {
      "image/png": "[encoded data removed]",
      "text/plain": [
       "<matplotlib.figure.Figure at 0x176cf84ed68>"
      ]
     },
     "metadata": {},
     "output_type": "display_data"
    }
   ],
   "source": [
    "#첫번째 컬럼자료를 첫번째(왼쪽) 축에 대응하여 그림\n",
    "fig, ax1 = plt.subplots()\n",
    "plt.plot(finalDf['WEEK'].index, finalDf['PREDICT'],'g',label='PREDICT')\n",
    "plt.grid(True)\n",
    "plt.legend(loc=4)\n",
    "plt.xlabel('index')\n",
    "plt.ylabel('value 1st')\n",
    "plt.title('Linear Regression')\n",
    "#두번째 컬럼자료를 두번쨰(오른쪽) 축에 대응하여 그림\n",
    "ax2 = ax1.twinx()\n",
    "plt.plot(finalDf['WEEK'].index,finalDf['QTY'],label='TRUE QTY')\n",
    "plt.legend(loc=0)\n",
    "plt.ylabel('value 2nd')"
   ]
  }
 ],
 "metadata": {
  "kernelspec": {
   "display_name": "Python 3",
   "language": "python",
   "name": "python3"
  },
  "language_info": {
   "codemirror_mode": {
    "name": "ipython",
    "version": 3
   },
   "file_extension": ".py",
   "mimetype": "text/x-python",
   "name": "python",
   "nbconvert_exporter": "python",
   "pygments_lexer": "ipython3",
   "version": "3.6.3"
  }
 },
 "nbformat": 4,
 "nbformat_minor": 2
}
